{
  "nbformat": 4,
  "nbformat_minor": 0,
  "metadata": {
    "colab": {
      "provenance": [],
      "authorship_tag": "ABX9TyNdFxz3VDRdphBa2GUibXWu",
      "include_colab_link": true
    },
    "kernelspec": {
      "name": "python3",
      "display_name": "Python 3"
    },
    "language_info": {
      "name": "python"
    }
  },
  "cells": [
    {
      "cell_type": "markdown",
      "metadata": {
        "id": "view-in-github",
        "colab_type": "text"
      },
      "source": [
        "<a href=\"https://colab.research.google.com/github/nnh92/Oop/blob/main/1-2.ipynb\" target=\"_parent\"><img src=\"https://colab.research.google.com/assets/colab-badge.svg\" alt=\"Open In Colab\"/></a>"
      ]
    },
    {
      "cell_type": "code",
      "execution_count": 15,
      "metadata": {
        "colab": {
          "base_uri": "https://localhost:8080/"
        },
        "id": "1c0hi1wF9hlY",
        "outputId": "8693ac69-b8a0-4162-c002-26a856b08800"
      },
      "outputs": [
        {
          "output_type": "stream",
          "name": "stdout",
          "text": [
            "Ban ay ten la:  Donosour\n",
            "Ban ay nang 1 tons\n",
            "Xin chao, ta ten la  Donosour\n"
          ]
        }
      ],
      "source": [
        "class Khung_Long():\n",
        "  def __init__(self, pr_name, pr_weight):\n",
        "    self.name = pr_name\n",
        "    self.weight = 'Ban ay nang ' + pr_weight\n",
        "\n",
        "  def XinChao(self):\n",
        "    return print('Xin chao, ta ten la ', self.name)\n",
        "\n",
        "Khung_Long_1 = Khung_Long('Donosour','1 tons')\n",
        "\n",
        "print('Ban ay ten la: ', Khung_Long_1.name)\n",
        "print(Khung_Long_1.weight)\n",
        "Khung_Long_1.XinChao()\n"
      ]
    }
  ]
}