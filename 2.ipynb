{
  "nbformat": 4,
  "nbformat_minor": 0,
  "metadata": {
    "colab": {
      "provenance": [],
      "authorship_tag": "ABX9TyM4XG7O/jwOV0ojbqMom1ud",
      "include_colab_link": true
    },
    "kernelspec": {
      "name": "python3",
      "display_name": "Python 3"
    },
    "language_info": {
      "name": "python"
    }
  },
  "cells": [
    {
      "cell_type": "markdown",
      "metadata": {
        "id": "view-in-github",
        "colab_type": "text"
      },
      "source": [
        "<a href=\"https://colab.research.google.com/github/nnh92/Oop/blob/main/2.ipynb\" target=\"_parent\"><img src=\"https://colab.research.google.com/assets/colab-badge.svg\" alt=\"Open In Colab\"/></a>"
      ]
    },
    {
      "cell_type": "code",
      "execution_count": 7,
      "metadata": {
        "colab": {
          "base_uri": "https://localhost:8080/"
        },
        "id": "1c0hi1wF9hlY",
        "outputId": "fc17b22b-0eb0-4cb5-f7f8-cd10ee195d30"
      },
      "outputs": [
        {
          "output_type": "stream",
          "name": "stdout",
          "text": [
            "Ban Khung long nha toi ten la: Donosour\n",
            "Ban ay nang 1 tons\n"
          ]
        }
      ],
      "source": [
        "class Khung_Long():\n",
        "  def __init__(self, pr_name, pr_weight):\n",
        "    self.name = 'Ban Khung long nha toi ten la: ' + pr_name\n",
        "    self.weight = 'Ban ay nang ' + pr_weight\n",
        "\n",
        "\n",
        "Khung_Long_1 = Khung_Long('Donosour','1 tons')\n",
        "\n",
        "#Khung_Long_2 = Khung_Long()\n",
        "\n",
        "print(Khung_Long_1.name)\n",
        "print(Khung_Long_1.weight)\n",
        "\n",
        "\n"
      ]
    }
  ]
}