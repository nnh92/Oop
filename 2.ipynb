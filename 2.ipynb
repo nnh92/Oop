{
  "nbformat": 4,
  "nbformat_minor": 0,
  "metadata": {
    "colab": {
      "provenance": [],
      "authorship_tag": "ABX9TyMnpn3pWcd3gRAxcOLbFDOi",
      "include_colab_link": true
    },
    "kernelspec": {
      "name": "python3",
      "display_name": "Python 3"
    },
    "language_info": {
      "name": "python"
    }
  },
  "cells": [
    {
      "cell_type": "markdown",
      "metadata": {
        "id": "view-in-github",
        "colab_type": "text"
      },
      "source": [
        "<a href=\"https://colab.research.google.com/github/nnh92/Oop/blob/main/2.ipynb\" target=\"_parent\"><img src=\"https://colab.research.google.com/assets/colab-badge.svg\" alt=\"Open In Colab\"/></a>"
      ]
    },
    {
      "cell_type": "code",
      "execution_count": 9,
      "metadata": {
        "colab": {
          "base_uri": "https://localhost:8080/"
        },
        "id": "1c0hi1wF9hlY",
        "outputId": "cbf8a44f-1db0-4ea9-d3f5-ddb2702f621e"
      },
      "outputs": [
        {
          "output_type": "stream",
          "name": "stdout",
          "text": [
            "1\n",
            "2\n",
            "3\n",
            "3\n"
          ]
        }
      ],
      "source": [
        "class Khung_Long():\n",
        "  stt = 0\n",
        "  def __init__(self, pr_name, pr_weight):\n",
        "    self.name = pr_name\n",
        "    self.weight = 'Ban ay nang ' + pr_weight\n",
        "    self.sott = Khung_Long.stt + 1\n",
        "    Khung_Long.stt += 1\n",
        "\n",
        "  def XinChao(self):\n",
        "    return print('Xin chao, ta ten la ', self.name)\n",
        "\n",
        "Khung_Long_1 = Khung_Long('Donosour','1 tons')\n",
        "Khung_Long_2 = Khung_Long('pink', '2kg')\n",
        "Khung_Long_3 = Khung_Long('read', '50kg')\n",
        "\n",
        "print(Khung_Long_1.sott)\n",
        "print(Khung_Long_2.sott)\n",
        "print(Khung_Long_3.sott)\n",
        "print(Khung_Long.stt)\n"
      ]
    }
  ]
}