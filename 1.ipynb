{
  "nbformat": 4,
  "nbformat_minor": 0,
  "metadata": {
    "colab": {
      "provenance": [],
      "authorship_tag": "ABX9TyNvi+RvtfbuQfkADcA2U0OX",
      "include_colab_link": true
    },
    "kernelspec": {
      "name": "python3",
      "display_name": "Python 3"
    },
    "language_info": {
      "name": "python"
    }
  },
  "cells": [
    {
      "cell_type": "markdown",
      "metadata": {
        "id": "view-in-github",
        "colab_type": "text"
      },
      "source": [
        "<a href=\"https://colab.research.google.com/github/nnh92/Oop/blob/main/1.ipynb\" target=\"_parent\"><img src=\"https://colab.research.google.com/assets/colab-badge.svg\" alt=\"Open In Colab\"/></a>"
      ]
    },
    {
      "cell_type": "code",
      "execution_count": 2,
      "metadata": {
        "colab": {
          "base_uri": "https://localhost:8080/"
        },
        "id": "1c0hi1wF9hlY",
        "outputId": "5609adcf-e8b2-4d0e-d8d5-60ba59b09275"
      },
      "outputs": [
        {
          "output_type": "stream",
          "name": "stdout",
          "text": [
            "Dinosour\n",
            "1 tons\n"
          ]
        }
      ],
      "source": [
        "class Khung_Long():\n",
        "  pass\n",
        "\n",
        "Khung_Long_1 = Khung_Long()\n",
        "\n",
        "Khung_Long_1.name = 'Dinosour'\n",
        "\n",
        "Khung_Long_1.weight = '1 tons'\n",
        "\n",
        "print(Khung_Long_1.name)\n",
        "\n",
        "print(Khung_Long_1.weight)\n",
        "\n",
        "\n",
        "\n",
        "\n",
        "\n",
        "\n",
        "\n",
        "\n",
        "\n",
        "\n",
        "\n"
      ]
    }
  ]
}